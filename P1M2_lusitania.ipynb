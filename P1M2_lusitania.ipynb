{
 "cells": [
  {
   "cell_type": "markdown",
   "metadata": {},
   "source": [
    "Milestone 2\n",
    "\n",
    "Nama  : Lusitania Ragil Cahyaningsih\n",
    "Batch : CODA-RMT-001\n",
    "\n",
    "Program ini dibuat untuk membantu client dalam melakukan standarisasi gaji Data Scientist di perusahaannya, serta mempersiapkan perusahaan dalam persaingan pasar tenaga kerja. Harapannya melalui hasil analisis ini, mampu mempertahankan kualitas dan menjaring karyawan bertalenta baik dengan gaji yang kompetitif.   "
   ]
  },
  {
   "cell_type": "markdown",
   "metadata": {},
   "source": [
    "A. Identifikasi Masalah"
   ]
  },
  {
   "cell_type": "markdown",
   "metadata": {},
   "source": [
    "A.1 Topik Permasalahan\n",
    "- Posisi Data scientist dalam suatu perusahaan/organisasi bisa dibilang cukup penting, pasalnya seorang Data Scientist dapat membantu pengambilan keputusan yang strategis berdasarkan data yang telah ia analisis. Ketidakpuasan terhadap salary yang didapatkan, merupakan salah satu penyebab tingginya tingkat turnover karyawan saat ini. Akibatnya, perusahaan tidak mampu mempertahankan maupun merekrut talenta berkualitas sehingga kesulitan dalam meningkatkan daya saing perusahaan.      \n"
   ]
  },
  {
   "cell_type": "markdown",
   "metadata": {},
   "source": [
    "A.2 Problem Statement\n",
    "- Standarisasi gaji data scientist dan mempersiapkan perusahaan dalam persaingan pasar tenaga kerja"
   ]
  },
  {
   "cell_type": "markdown",
   "metadata": {},
   "source": [
    "A.3 Latar Belakang\n",
    "- Di era digital dan teknologi saat ini, profesi Data Scientist semakin berkembang pesat dan menjadi salah satu pekerjaan yang paling dicari di berbagai industri. Data scientist bertugas untuk mengolah, menganalisis, dan menginterpretasi data besar untuk menghasilkan wawasan yang dapat membantu pengambilan keputusan strategis dalam suatu organisasi. Dengan semakin pentingnya peran ini, penting juga untuk memahami berbagai faktor yang mempengaruhi gaji seorang data scientist. Menganalisis data gaji seorang data scientist bukan hanya penting bagi individu yang bekerja di bidang ini, tetapi juga bagi perusahaan dan lembaga yang ingin menarik dan mempertahankan talenta terbaiknya."
   ]
  },
  {
   "cell_type": "markdown",
   "metadata": {},
   "source": [
    "A.4 Penjabaran Masalah dengan Metode 5W+1H\n",
    "- A.2.1 Berapa rata-rata gaji Data Scientist, Data Engineer, dan Data Analyst?\n",
    "- A.2.2 Bagaimana tren gaji Data Scientist, Data Engineer, dan Data Analyst dari tahun 2020 - 2023?\n",
    "- A.2.3 Di negara mana gaji tertinggi Data Scientist, Data Engineer, dan Data Analyst?\n",
    "- A.2.4 Kapan gaji Data Scientist, Data Engineer, dan Data Analyst berada pada posisi terendah dan tertinggi?\n",
    "- A.2.5 Dari ketiga posisi yang ada (Data Scientist, Data Engineer, dan Data Analyst), posisi mana yang memiliki tren gaji yang baik?\n",
    "- A.2.6 Apa yang mempengaruhi tinggi - rendahnya gaji Data Scientist, Data Engineer, dan Data Analyst?"
   ]
  },
  {
   "cell_type": "markdown",
   "metadata": {},
   "source": [
    "B. Data Loading\n",
    "source: https://www.kaggle.com/datasets/iamsouravbanerjee/data-science-salaries-2023/data"
   ]
  },
  {
   "cell_type": "code",
   "execution_count": 56,
   "metadata": {},
   "outputs": [],
   "source": [
    "# Import necessary libraries\n",
    "import pandas as pd\n",
    "import numpy as np\n",
    "import matplotlib.pyplot as plt\n",
    "import seaborn as sns\n",
    "from IPython.core.display import display, HTML\n",
    "from scipy import stats\n",
    "import statsmodels.api as sm\n",
    "from statsmodels.tsa.stattools import adfuller\n",
    "from statsmodels.tsa.arima.model import ARIMA\n",
    "import warnings\n",
    "warnings.filterwarnings('ignore')"
   ]
  },
  {
   "cell_type": "code",
   "execution_count": 57,
   "metadata": {},
   "outputs": [
    {
     "data": {
      "text/html": [
       "<div>\n",
       "<style scoped>\n",
       "    .dataframe tbody tr th:only-of-type {\n",
       "        vertical-align: middle;\n",
       "    }\n",
       "\n",
       "    .dataframe tbody tr th {\n",
       "        vertical-align: top;\n",
       "    }\n",
       "\n",
       "    .dataframe thead th {\n",
       "        text-align: right;\n",
       "    }\n",
       "</style>\n",
       "<table border=\"1\" class=\"dataframe\">\n",
       "  <thead>\n",
       "    <tr style=\"text-align: right;\">\n",
       "      <th></th>\n",
       "      <th>Job Title</th>\n",
       "      <th>Employment Type</th>\n",
       "      <th>Experience Level</th>\n",
       "      <th>Expertise Level</th>\n",
       "      <th>Salary</th>\n",
       "      <th>Salary Currency</th>\n",
       "      <th>Company Location</th>\n",
       "      <th>Salary in USD</th>\n",
       "      <th>Employee Residence</th>\n",
       "      <th>Company Size</th>\n",
       "      <th>Year</th>\n",
       "    </tr>\n",
       "  </thead>\n",
       "  <tbody>\n",
       "    <tr>\n",
       "      <th>0</th>\n",
       "      <td>Data Engineer</td>\n",
       "      <td>Full-Time</td>\n",
       "      <td>Senior</td>\n",
       "      <td>Expert</td>\n",
       "      <td>210000</td>\n",
       "      <td>United States Dollar</td>\n",
       "      <td>United States</td>\n",
       "      <td>210000</td>\n",
       "      <td>United States</td>\n",
       "      <td>Medium</td>\n",
       "      <td>2023</td>\n",
       "    </tr>\n",
       "    <tr>\n",
       "      <th>1</th>\n",
       "      <td>Data Engineer</td>\n",
       "      <td>Full-Time</td>\n",
       "      <td>Senior</td>\n",
       "      <td>Expert</td>\n",
       "      <td>165000</td>\n",
       "      <td>United States Dollar</td>\n",
       "      <td>United States</td>\n",
       "      <td>165000</td>\n",
       "      <td>United States</td>\n",
       "      <td>Medium</td>\n",
       "      <td>2023</td>\n",
       "    </tr>\n",
       "    <tr>\n",
       "      <th>2</th>\n",
       "      <td>Data Engineer</td>\n",
       "      <td>Full-Time</td>\n",
       "      <td>Senior</td>\n",
       "      <td>Expert</td>\n",
       "      <td>185900</td>\n",
       "      <td>United States Dollar</td>\n",
       "      <td>United States</td>\n",
       "      <td>185900</td>\n",
       "      <td>United States</td>\n",
       "      <td>Medium</td>\n",
       "      <td>2023</td>\n",
       "    </tr>\n",
       "    <tr>\n",
       "      <th>3</th>\n",
       "      <td>Data Engineer</td>\n",
       "      <td>Full-Time</td>\n",
       "      <td>Senior</td>\n",
       "      <td>Expert</td>\n",
       "      <td>129300</td>\n",
       "      <td>United States Dollar</td>\n",
       "      <td>United States</td>\n",
       "      <td>129300</td>\n",
       "      <td>United States</td>\n",
       "      <td>Medium</td>\n",
       "      <td>2023</td>\n",
       "    </tr>\n",
       "    <tr>\n",
       "      <th>4</th>\n",
       "      <td>Data Scientist</td>\n",
       "      <td>Full-Time</td>\n",
       "      <td>Senior</td>\n",
       "      <td>Expert</td>\n",
       "      <td>140000</td>\n",
       "      <td>United States Dollar</td>\n",
       "      <td>United States</td>\n",
       "      <td>140000</td>\n",
       "      <td>United States</td>\n",
       "      <td>Medium</td>\n",
       "      <td>2023</td>\n",
       "    </tr>\n",
       "  </tbody>\n",
       "</table>\n",
       "</div>"
      ],
      "text/plain": [
       "        Job Title Employment Type Experience Level Expertise Level  Salary  \\\n",
       "0   Data Engineer       Full-Time           Senior          Expert  210000   \n",
       "1   Data Engineer       Full-Time           Senior          Expert  165000   \n",
       "2   Data Engineer       Full-Time           Senior          Expert  185900   \n",
       "3   Data Engineer       Full-Time           Senior          Expert  129300   \n",
       "4  Data Scientist       Full-Time           Senior          Expert  140000   \n",
       "\n",
       "        Salary Currency Company Location  Salary in USD Employee Residence  \\\n",
       "0  United States Dollar    United States         210000      United States   \n",
       "1  United States Dollar    United States         165000      United States   \n",
       "2  United States Dollar    United States         185900      United States   \n",
       "3  United States Dollar    United States         129300      United States   \n",
       "4  United States Dollar    United States         140000      United States   \n",
       "\n",
       "  Company Size  Year  \n",
       "0       Medium  2023  \n",
       "1       Medium  2023  \n",
       "2       Medium  2023  \n",
       "3       Medium  2023  \n",
       "4       Medium  2023  "
      ]
     },
     "execution_count": 57,
     "metadata": {},
     "output_type": "execute_result"
    }
   ],
   "source": [
    "# Read the dataset from CSV\n",
    "df = pd.read_csv('Latest_Data_Science_Salaries.csv')\n",
    "\n",
    "# Display the first few rows\n",
    "df.head()"
   ]
  },
  {
   "cell_type": "markdown",
   "metadata": {},
   "source": [
    "C. Data Cleaning"
   ]
  },
  {
   "cell_type": "code",
   "execution_count": 58,
   "metadata": {},
   "outputs": [
    {
     "name": "stdout",
     "output_type": "stream",
     "text": [
      "<class 'pandas.core.frame.DataFrame'>\n",
      "RangeIndex: 3300 entries, 0 to 3299\n",
      "Data columns (total 11 columns):\n",
      " #   Column              Non-Null Count  Dtype \n",
      "---  ------              --------------  ----- \n",
      " 0   Job Title           3300 non-null   object\n",
      " 1   Employment Type     3300 non-null   object\n",
      " 2   Experience Level    3300 non-null   object\n",
      " 3   Expertise Level     3300 non-null   object\n",
      " 4   Salary              3300 non-null   int64 \n",
      " 5   Salary Currency     3300 non-null   object\n",
      " 6   Company Location    3300 non-null   object\n",
      " 7   Salary in USD       3300 non-null   int64 \n",
      " 8   Employee Residence  3300 non-null   object\n",
      " 9   Company Size        3300 non-null   object\n",
      " 10  Year                3300 non-null   int64 \n",
      "dtypes: int64(3), object(8)\n",
      "memory usage: 283.7+ KB\n"
     ]
    }
   ],
   "source": [
    "# Information of dataset\n",
    "df.info()"
   ]
  },
  {
   "cell_type": "code",
   "execution_count": 59,
   "metadata": {},
   "outputs": [
    {
     "data": {
      "text/html": [
       "<div>\n",
       "<style scoped>\n",
       "    .dataframe tbody tr th:only-of-type {\n",
       "        vertical-align: middle;\n",
       "    }\n",
       "\n",
       "    .dataframe tbody tr th {\n",
       "        vertical-align: top;\n",
       "    }\n",
       "\n",
       "    .dataframe thead th {\n",
       "        text-align: right;\n",
       "    }\n",
       "</style>\n",
       "<table border=\"1\" class=\"dataframe\">\n",
       "  <thead>\n",
       "    <tr style=\"text-align: right;\">\n",
       "      <th></th>\n",
       "      <th>Salary</th>\n",
       "      <th>Salary in USD</th>\n",
       "      <th>Year</th>\n",
       "    </tr>\n",
       "  </thead>\n",
       "  <tbody>\n",
       "    <tr>\n",
       "      <th>count</th>\n",
       "      <td>3.300000e+03</td>\n",
       "      <td>3300.000000</td>\n",
       "      <td>3300.000000</td>\n",
       "    </tr>\n",
       "    <tr>\n",
       "      <th>mean</th>\n",
       "      <td>2.046623e+05</td>\n",
       "      <td>142095.983939</td>\n",
       "      <td>2022.495455</td>\n",
       "    </tr>\n",
       "    <tr>\n",
       "      <th>std</th>\n",
       "      <td>7.279383e+05</td>\n",
       "      <td>69028.235512</td>\n",
       "      <td>0.716355</td>\n",
       "    </tr>\n",
       "    <tr>\n",
       "      <th>min</th>\n",
       "      <td>1.400000e+04</td>\n",
       "      <td>15000.000000</td>\n",
       "      <td>2020.000000</td>\n",
       "    </tr>\n",
       "    <tr>\n",
       "      <th>25%</th>\n",
       "      <td>9.416900e+04</td>\n",
       "      <td>90000.000000</td>\n",
       "      <td>2022.000000</td>\n",
       "    </tr>\n",
       "    <tr>\n",
       "      <th>50%</th>\n",
       "      <td>1.400000e+05</td>\n",
       "      <td>136000.000000</td>\n",
       "      <td>2023.000000</td>\n",
       "    </tr>\n",
       "    <tr>\n",
       "      <th>75%</th>\n",
       "      <td>1.900000e+05</td>\n",
       "      <td>185000.000000</td>\n",
       "      <td>2023.000000</td>\n",
       "    </tr>\n",
       "    <tr>\n",
       "      <th>max</th>\n",
       "      <td>3.040000e+07</td>\n",
       "      <td>450000.000000</td>\n",
       "      <td>2023.000000</td>\n",
       "    </tr>\n",
       "  </tbody>\n",
       "</table>\n",
       "</div>"
      ],
      "text/plain": [
       "             Salary  Salary in USD         Year\n",
       "count  3.300000e+03    3300.000000  3300.000000\n",
       "mean   2.046623e+05  142095.983939  2022.495455\n",
       "std    7.279383e+05   69028.235512     0.716355\n",
       "min    1.400000e+04   15000.000000  2020.000000\n",
       "25%    9.416900e+04   90000.000000  2022.000000\n",
       "50%    1.400000e+05  136000.000000  2023.000000\n",
       "75%    1.900000e+05  185000.000000  2023.000000\n",
       "max    3.040000e+07  450000.000000  2023.000000"
      ]
     },
     "execution_count": 59,
     "metadata": {},
     "output_type": "execute_result"
    }
   ],
   "source": [
    "df.describe()"
   ]
  },
  {
   "cell_type": "code",
   "execution_count": 60,
   "metadata": {},
   "outputs": [
    {
     "data": {
      "text/html": [
       "<div>\n",
       "<style scoped>\n",
       "    .dataframe tbody tr th:only-of-type {\n",
       "        vertical-align: middle;\n",
       "    }\n",
       "\n",
       "    .dataframe tbody tr th {\n",
       "        vertical-align: top;\n",
       "    }\n",
       "\n",
       "    .dataframe thead th {\n",
       "        text-align: right;\n",
       "    }\n",
       "</style>\n",
       "<table border=\"1\" class=\"dataframe\">\n",
       "  <thead>\n",
       "    <tr style=\"text-align: right;\">\n",
       "      <th></th>\n",
       "      <th>Job Title</th>\n",
       "      <th>Employment Type</th>\n",
       "      <th>Experience Level</th>\n",
       "      <th>Expertise Level</th>\n",
       "      <th>Salary</th>\n",
       "      <th>Salary Currency</th>\n",
       "      <th>Company Location</th>\n",
       "      <th>Salary in USD</th>\n",
       "      <th>Employee Residence</th>\n",
       "      <th>Company Size</th>\n",
       "      <th>Year</th>\n",
       "    </tr>\n",
       "  </thead>\n",
       "  <tbody>\n",
       "    <tr>\n",
       "      <th>0</th>\n",
       "      <td>Data Engineer</td>\n",
       "      <td>Full-Time</td>\n",
       "      <td>Senior</td>\n",
       "      <td>Expert</td>\n",
       "      <td>210000</td>\n",
       "      <td>United States Dollar</td>\n",
       "      <td>United States</td>\n",
       "      <td>210000</td>\n",
       "      <td>United States</td>\n",
       "      <td>Medium</td>\n",
       "      <td>2023</td>\n",
       "    </tr>\n",
       "    <tr>\n",
       "      <th>1</th>\n",
       "      <td>Data Engineer</td>\n",
       "      <td>Full-Time</td>\n",
       "      <td>Senior</td>\n",
       "      <td>Expert</td>\n",
       "      <td>165000</td>\n",
       "      <td>United States Dollar</td>\n",
       "      <td>United States</td>\n",
       "      <td>165000</td>\n",
       "      <td>United States</td>\n",
       "      <td>Medium</td>\n",
       "      <td>2023</td>\n",
       "    </tr>\n",
       "    <tr>\n",
       "      <th>2</th>\n",
       "      <td>Data Engineer</td>\n",
       "      <td>Full-Time</td>\n",
       "      <td>Senior</td>\n",
       "      <td>Expert</td>\n",
       "      <td>185900</td>\n",
       "      <td>United States Dollar</td>\n",
       "      <td>United States</td>\n",
       "      <td>185900</td>\n",
       "      <td>United States</td>\n",
       "      <td>Medium</td>\n",
       "      <td>2023</td>\n",
       "    </tr>\n",
       "    <tr>\n",
       "      <th>3</th>\n",
       "      <td>Data Engineer</td>\n",
       "      <td>Full-Time</td>\n",
       "      <td>Senior</td>\n",
       "      <td>Expert</td>\n",
       "      <td>129300</td>\n",
       "      <td>United States Dollar</td>\n",
       "      <td>United States</td>\n",
       "      <td>129300</td>\n",
       "      <td>United States</td>\n",
       "      <td>Medium</td>\n",
       "      <td>2023</td>\n",
       "    </tr>\n",
       "    <tr>\n",
       "      <th>4</th>\n",
       "      <td>Data Scientist</td>\n",
       "      <td>Full-Time</td>\n",
       "      <td>Senior</td>\n",
       "      <td>Expert</td>\n",
       "      <td>140000</td>\n",
       "      <td>United States Dollar</td>\n",
       "      <td>United States</td>\n",
       "      <td>140000</td>\n",
       "      <td>United States</td>\n",
       "      <td>Medium</td>\n",
       "      <td>2023</td>\n",
       "    </tr>\n",
       "    <tr>\n",
       "      <th>...</th>\n",
       "      <td>...</td>\n",
       "      <td>...</td>\n",
       "      <td>...</td>\n",
       "      <td>...</td>\n",
       "      <td>...</td>\n",
       "      <td>...</td>\n",
       "      <td>...</td>\n",
       "      <td>...</td>\n",
       "      <td>...</td>\n",
       "      <td>...</td>\n",
       "      <td>...</td>\n",
       "    </tr>\n",
       "    <tr>\n",
       "      <th>3288</th>\n",
       "      <td>Data Engineer</td>\n",
       "      <td>Full-Time</td>\n",
       "      <td>Mid</td>\n",
       "      <td>Intermediate</td>\n",
       "      <td>130800</td>\n",
       "      <td>United States Dollar</td>\n",
       "      <td>United States</td>\n",
       "      <td>130800</td>\n",
       "      <td>Spain</td>\n",
       "      <td>Medium</td>\n",
       "      <td>2020</td>\n",
       "    </tr>\n",
       "    <tr>\n",
       "      <th>3291</th>\n",
       "      <td>Data Scientist</td>\n",
       "      <td>Full-Time</td>\n",
       "      <td>Mid</td>\n",
       "      <td>Intermediate</td>\n",
       "      <td>160000</td>\n",
       "      <td>Singapore Dollar</td>\n",
       "      <td>Israel</td>\n",
       "      <td>119059</td>\n",
       "      <td>Singapore</td>\n",
       "      <td>Medium</td>\n",
       "      <td>2021</td>\n",
       "    </tr>\n",
       "    <tr>\n",
       "      <th>3293</th>\n",
       "      <td>Data Engineer</td>\n",
       "      <td>Full-Time</td>\n",
       "      <td>Mid</td>\n",
       "      <td>Intermediate</td>\n",
       "      <td>24000</td>\n",
       "      <td>Euro</td>\n",
       "      <td>Malta</td>\n",
       "      <td>28369</td>\n",
       "      <td>Malta</td>\n",
       "      <td>Large</td>\n",
       "      <td>2021</td>\n",
       "    </tr>\n",
       "    <tr>\n",
       "      <th>3295</th>\n",
       "      <td>Data Scientist</td>\n",
       "      <td>Full-Time</td>\n",
       "      <td>Senior</td>\n",
       "      <td>Expert</td>\n",
       "      <td>412000</td>\n",
       "      <td>United States Dollar</td>\n",
       "      <td>United States</td>\n",
       "      <td>412000</td>\n",
       "      <td>United States</td>\n",
       "      <td>Large</td>\n",
       "      <td>2020</td>\n",
       "    </tr>\n",
       "    <tr>\n",
       "      <th>3297</th>\n",
       "      <td>Data Scientist</td>\n",
       "      <td>Full-Time</td>\n",
       "      <td>Entry</td>\n",
       "      <td>Junior</td>\n",
       "      <td>105000</td>\n",
       "      <td>United States Dollar</td>\n",
       "      <td>United States</td>\n",
       "      <td>105000</td>\n",
       "      <td>United States</td>\n",
       "      <td>Small</td>\n",
       "      <td>2020</td>\n",
       "    </tr>\n",
       "  </tbody>\n",
       "</table>\n",
       "<p>1796 rows × 11 columns</p>\n",
       "</div>"
      ],
      "text/plain": [
       "           Job Title Employment Type Experience Level Expertise Level  Salary  \\\n",
       "0      Data Engineer       Full-Time           Senior          Expert  210000   \n",
       "1      Data Engineer       Full-Time           Senior          Expert  165000   \n",
       "2      Data Engineer       Full-Time           Senior          Expert  185900   \n",
       "3      Data Engineer       Full-Time           Senior          Expert  129300   \n",
       "4     Data Scientist       Full-Time           Senior          Expert  140000   \n",
       "...              ...             ...              ...             ...     ...   \n",
       "3288   Data Engineer       Full-Time              Mid    Intermediate  130800   \n",
       "3291  Data Scientist       Full-Time              Mid    Intermediate  160000   \n",
       "3293   Data Engineer       Full-Time              Mid    Intermediate   24000   \n",
       "3295  Data Scientist       Full-Time           Senior          Expert  412000   \n",
       "3297  Data Scientist       Full-Time            Entry          Junior  105000   \n",
       "\n",
       "           Salary Currency Company Location  Salary in USD Employee Residence  \\\n",
       "0     United States Dollar    United States         210000      United States   \n",
       "1     United States Dollar    United States         165000      United States   \n",
       "2     United States Dollar    United States         185900      United States   \n",
       "3     United States Dollar    United States         129300      United States   \n",
       "4     United States Dollar    United States         140000      United States   \n",
       "...                    ...              ...            ...                ...   \n",
       "3288  United States Dollar    United States         130800              Spain   \n",
       "3291      Singapore Dollar           Israel         119059          Singapore   \n",
       "3293                  Euro            Malta          28369              Malta   \n",
       "3295  United States Dollar    United States         412000      United States   \n",
       "3297  United States Dollar    United States         105000      United States   \n",
       "\n",
       "     Company Size  Year  \n",
       "0          Medium  2023  \n",
       "1          Medium  2023  \n",
       "2          Medium  2023  \n",
       "3          Medium  2023  \n",
       "4          Medium  2023  \n",
       "...           ...   ...  \n",
       "3288       Medium  2020  \n",
       "3291       Medium  2021  \n",
       "3293        Large  2021  \n",
       "3295        Large  2020  \n",
       "3297        Small  2020  \n",
       "\n",
       "[1796 rows x 11 columns]"
      ]
     },
     "execution_count": 60,
     "metadata": {},
     "output_type": "execute_result"
    }
   ],
   "source": [
    "# filter data (hanya digunakan data dengan jumlah job title 3 terbanyak - Data Scientist, Data Engineer, dan Data Analyst)\n",
    "\n",
    "job_title = ['Data Engineer', 'Data Scientist', 'Data Analyst']\n",
    "\n",
    "df2 = df.loc[df['Job Title'].isin(job_title)]\n",
    "df2"
   ]
  },
  {
   "cell_type": "code",
   "execution_count": 61,
   "metadata": {},
   "outputs": [
    {
     "data": {
      "text/html": [
       "<div>\n",
       "<style scoped>\n",
       "    .dataframe tbody tr th:only-of-type {\n",
       "        vertical-align: middle;\n",
       "    }\n",
       "\n",
       "    .dataframe tbody tr th {\n",
       "        vertical-align: top;\n",
       "    }\n",
       "\n",
       "    .dataframe thead th {\n",
       "        text-align: right;\n",
       "    }\n",
       "</style>\n",
       "<table border=\"1\" class=\"dataframe\">\n",
       "  <thead>\n",
       "    <tr style=\"text-align: right;\">\n",
       "      <th></th>\n",
       "      <th>Job Title</th>\n",
       "      <th>Employment Type</th>\n",
       "      <th>Experience Level</th>\n",
       "      <th>Expertise Level</th>\n",
       "      <th>Company Location</th>\n",
       "      <th>Salary in USD</th>\n",
       "      <th>Employee Residence</th>\n",
       "      <th>Company Size</th>\n",
       "      <th>Year</th>\n",
       "    </tr>\n",
       "  </thead>\n",
       "  <tbody>\n",
       "    <tr>\n",
       "      <th>0</th>\n",
       "      <td>Data Engineer</td>\n",
       "      <td>Full-Time</td>\n",
       "      <td>Senior</td>\n",
       "      <td>Expert</td>\n",
       "      <td>United States</td>\n",
       "      <td>210000</td>\n",
       "      <td>United States</td>\n",
       "      <td>Medium</td>\n",
       "      <td>2023</td>\n",
       "    </tr>\n",
       "    <tr>\n",
       "      <th>1</th>\n",
       "      <td>Data Engineer</td>\n",
       "      <td>Full-Time</td>\n",
       "      <td>Senior</td>\n",
       "      <td>Expert</td>\n",
       "      <td>United States</td>\n",
       "      <td>165000</td>\n",
       "      <td>United States</td>\n",
       "      <td>Medium</td>\n",
       "      <td>2023</td>\n",
       "    </tr>\n",
       "    <tr>\n",
       "      <th>2</th>\n",
       "      <td>Data Engineer</td>\n",
       "      <td>Full-Time</td>\n",
       "      <td>Senior</td>\n",
       "      <td>Expert</td>\n",
       "      <td>United States</td>\n",
       "      <td>185900</td>\n",
       "      <td>United States</td>\n",
       "      <td>Medium</td>\n",
       "      <td>2023</td>\n",
       "    </tr>\n",
       "    <tr>\n",
       "      <th>3</th>\n",
       "      <td>Data Engineer</td>\n",
       "      <td>Full-Time</td>\n",
       "      <td>Senior</td>\n",
       "      <td>Expert</td>\n",
       "      <td>United States</td>\n",
       "      <td>129300</td>\n",
       "      <td>United States</td>\n",
       "      <td>Medium</td>\n",
       "      <td>2023</td>\n",
       "    </tr>\n",
       "    <tr>\n",
       "      <th>4</th>\n",
       "      <td>Data Scientist</td>\n",
       "      <td>Full-Time</td>\n",
       "      <td>Senior</td>\n",
       "      <td>Expert</td>\n",
       "      <td>United States</td>\n",
       "      <td>140000</td>\n",
       "      <td>United States</td>\n",
       "      <td>Medium</td>\n",
       "      <td>2023</td>\n",
       "    </tr>\n",
       "    <tr>\n",
       "      <th>...</th>\n",
       "      <td>...</td>\n",
       "      <td>...</td>\n",
       "      <td>...</td>\n",
       "      <td>...</td>\n",
       "      <td>...</td>\n",
       "      <td>...</td>\n",
       "      <td>...</td>\n",
       "      <td>...</td>\n",
       "      <td>...</td>\n",
       "    </tr>\n",
       "    <tr>\n",
       "      <th>3288</th>\n",
       "      <td>Data Engineer</td>\n",
       "      <td>Full-Time</td>\n",
       "      <td>Mid</td>\n",
       "      <td>Intermediate</td>\n",
       "      <td>United States</td>\n",
       "      <td>130800</td>\n",
       "      <td>Spain</td>\n",
       "      <td>Medium</td>\n",
       "      <td>2020</td>\n",
       "    </tr>\n",
       "    <tr>\n",
       "      <th>3291</th>\n",
       "      <td>Data Scientist</td>\n",
       "      <td>Full-Time</td>\n",
       "      <td>Mid</td>\n",
       "      <td>Intermediate</td>\n",
       "      <td>Israel</td>\n",
       "      <td>119059</td>\n",
       "      <td>Singapore</td>\n",
       "      <td>Medium</td>\n",
       "      <td>2021</td>\n",
       "    </tr>\n",
       "    <tr>\n",
       "      <th>3293</th>\n",
       "      <td>Data Engineer</td>\n",
       "      <td>Full-Time</td>\n",
       "      <td>Mid</td>\n",
       "      <td>Intermediate</td>\n",
       "      <td>Malta</td>\n",
       "      <td>28369</td>\n",
       "      <td>Malta</td>\n",
       "      <td>Large</td>\n",
       "      <td>2021</td>\n",
       "    </tr>\n",
       "    <tr>\n",
       "      <th>3295</th>\n",
       "      <td>Data Scientist</td>\n",
       "      <td>Full-Time</td>\n",
       "      <td>Senior</td>\n",
       "      <td>Expert</td>\n",
       "      <td>United States</td>\n",
       "      <td>412000</td>\n",
       "      <td>United States</td>\n",
       "      <td>Large</td>\n",
       "      <td>2020</td>\n",
       "    </tr>\n",
       "    <tr>\n",
       "      <th>3297</th>\n",
       "      <td>Data Scientist</td>\n",
       "      <td>Full-Time</td>\n",
       "      <td>Entry</td>\n",
       "      <td>Junior</td>\n",
       "      <td>United States</td>\n",
       "      <td>105000</td>\n",
       "      <td>United States</td>\n",
       "      <td>Small</td>\n",
       "      <td>2020</td>\n",
       "    </tr>\n",
       "  </tbody>\n",
       "</table>\n",
       "<p>1796 rows × 9 columns</p>\n",
       "</div>"
      ],
      "text/plain": [
       "           Job Title Employment Type Experience Level Expertise Level  \\\n",
       "0      Data Engineer       Full-Time           Senior          Expert   \n",
       "1      Data Engineer       Full-Time           Senior          Expert   \n",
       "2      Data Engineer       Full-Time           Senior          Expert   \n",
       "3      Data Engineer       Full-Time           Senior          Expert   \n",
       "4     Data Scientist       Full-Time           Senior          Expert   \n",
       "...              ...             ...              ...             ...   \n",
       "3288   Data Engineer       Full-Time              Mid    Intermediate   \n",
       "3291  Data Scientist       Full-Time              Mid    Intermediate   \n",
       "3293   Data Engineer       Full-Time              Mid    Intermediate   \n",
       "3295  Data Scientist       Full-Time           Senior          Expert   \n",
       "3297  Data Scientist       Full-Time            Entry          Junior   \n",
       "\n",
       "     Company Location  Salary in USD Employee Residence Company Size  Year  \n",
       "0       United States         210000      United States       Medium  2023  \n",
       "1       United States         165000      United States       Medium  2023  \n",
       "2       United States         185900      United States       Medium  2023  \n",
       "3       United States         129300      United States       Medium  2023  \n",
       "4       United States         140000      United States       Medium  2023  \n",
       "...               ...            ...                ...          ...   ...  \n",
       "3288    United States         130800              Spain       Medium  2020  \n",
       "3291           Israel         119059          Singapore       Medium  2021  \n",
       "3293            Malta          28369              Malta        Large  2021  \n",
       "3295    United States         412000      United States        Large  2020  \n",
       "3297    United States         105000      United States        Small  2020  \n",
       "\n",
       "[1796 rows x 9 columns]"
      ]
     },
     "execution_count": 61,
     "metadata": {},
     "output_type": "execute_result"
    }
   ],
   "source": [
    "# drop kolom tidak digunakan (Salary, Salary Currency)\n",
    "df3 = df2.drop(columns=['Salary','Salary Currency'])\n",
    "df3"
   ]
  },
  {
   "cell_type": "markdown",
   "metadata": {},
   "source": [
    "D. Analisis dan Perhitungan"
   ]
  },
  {
   "cell_type": "markdown",
   "metadata": {},
   "source": [
    "D.1 Statistics Descriptive\n",
    "- Statistik deskriptif adalah cabang statistik yang berfokus pada merangkum dan mendeskripsikan ciri-ciri utama suatu dataset. Ini melibatkan penggunaan berbagai ukuran dan teknik statistik untuk memberikan ringkasan data yang ringkas dan bermakna.\n",
    "Statistik deskriptif bertujuan untuk memberikan informasi tentang kecenderungan sentral (central tendency), variabilitas (variability), dan sebaran data (distribution)."
   ]
  },
  {
   "cell_type": "code",
   "execution_count": 62,
   "metadata": {},
   "outputs": [
    {
     "name": "stdout",
     "output_type": "stream",
     "text": [
      "Rata-rata gaji Data Scientist, Data Engineer, Data Analyst: $ 133667.13\n",
      "Nilai tengah gaji Data Scientist, Data Engineer, Data Analyst: $ 127037.50\n",
      "Nilai gaji Data Scientist, Data Engineer, Data Analyst yang paling sering muncul: $ 100000.00\n"
     ]
    }
   ],
   "source": [
    "# D.1.1 Central Tendency\n",
    "#rata-rata salary\n",
    "mean = df3['Salary in USD'].mean()\n",
    "print(f\"Rata-rata gaji Data Scientist, Data Engineer, Data Analyst: $ {mean:.2f}\")\n",
    "# nilai tengah salary\n",
    "median = df3['Salary in USD'].median()\n",
    "print(f\"Nilai tengah gaji Data Scientist, Data Engineer, Data Analyst: $ {median:.2f}\")\n",
    "# modus salary\n",
    "mode = df3['Salary in USD'].mode().values[0]\n",
    "print(f\"Nilai gaji Data Scientist, Data Engineer, Data Analyst yang paling sering muncul: $ {mode:.2f}\")"
   ]
  },
  {
   "cell_type": "code",
   "execution_count": 63,
   "metadata": {},
   "outputs": [
    {
     "name": "stdout",
     "output_type": "stream",
     "text": [
      "0    Data Engineer\n",
      "Name: Job Title, dtype: object\n"
     ]
    }
   ],
   "source": [
    "# job title yang sering muncul\n",
    "print(df3['Job Title'].mode())\n"
   ]
  },
  {
   "cell_type": "code",
   "execution_count": 64,
   "metadata": {},
   "outputs": [
    {
     "data": {
      "text/plain": [
       "Job Title\n",
       "Data Engineer     702\n",
       "Data Scientist    635\n",
       "Data Analyst      459\n",
       "Name: count, dtype: int64"
      ]
     },
     "execution_count": 64,
     "metadata": {},
     "output_type": "execute_result"
    }
   ],
   "source": [
    "# jumlah data per job title\n",
    "df3['Job Title'].value_counts()"
   ]
  },
  {
   "cell_type": "code",
   "execution_count": 65,
   "metadata": {},
   "outputs": [
    {
     "name": "stdout",
     "output_type": "stream",
     "text": [
      "Rentang gaji Data Scientist, Data Engineer, Data Analyst: $ 415967.00\n"
     ]
    }
   ],
   "source": [
    "# D.1.2 Variability\n",
    "# range\n",
    "range = df3['Salary in USD'].max() - df3['Salary in USD'].min()\n",
    "print(f'Rentang gaji Data Scientist, Data Engineer, Data Analyst: $ {range:.2f}')\n"
   ]
  },
  {
   "cell_type": "code",
   "execution_count": 71,
   "metadata": {},
   "outputs": [
    {
     "name": "stdout",
     "output_type": "stream",
     "text": [
      "Q1: $ 85000.00\n",
      "Q2: $ 127037.50\n",
      "Q3: $ 174575.00\n",
      "Interquartile Range (IQR): $ 89575.00\n"
     ]
    }
   ],
   "source": [
    "# quartile\n",
    "q1 = df3['Salary in USD'].quantile(0.25)\n",
    "q2 = df3['Salary in USD'].quantile(0.5)\n",
    "q3 = df3['Salary in USD'].quantile(0.75)\n",
    "\n",
    "iqr = q3 - q1\n",
    "\n",
    "print(f'Q1: $ {q1:.2f}')\n",
    "print(f'Q2: $ {q2:.2f}')\n",
    "print(f'Q3: $ {q3:.2f}')\n",
    "print(f'Interquartile Range (IQR): $ {iqr:.2f}')"
   ]
  },
  {
   "cell_type": "code",
   "execution_count": 72,
   "metadata": {},
   "outputs": [
    {
     "data": {
      "image/png": "[encoded data removed]",
      "text/plain": [
       "<Figure size 600x400 with 1 Axes>"
      ]
     },
     "metadata": {},
     "output_type": "display_data"
    }
   ],
   "source": [
    "# quartile boxplot\n",
    "plt.figure(figsize=(6, 4))\n",
    "plt.boxplot(df3['Salary in USD'], vert=False, patch_artist=True)\n",
    "\n",
    "plt.annotate(f'Q1 = {q1}', xy=(q1, 1.06), xytext=(q1, 1.2), arrowprops=dict(facecolor='black', arrowstyle='->'))\n",
    "plt.annotate(f'Q2 = {q2}', xy=(q2, 1.06), xytext=(q2, 1.3), arrowprops=dict(facecolor='black', arrowstyle='->'))\n",
    "plt.annotate(f'Q3 = {q3}', xy=(q3, 1.06), xytext=(q3, 1.2), arrowprops=dict(facecolor='black', arrowstyle='->'))\n",
    "plt.annotate(f'IQR = {iqr}', xy=((q1+q3)/2, 0.85), ha='center')\n",
    "\n",
    "plt.axvline(q1, linestyle='--', color='gray', label='Q1')\n",
    "plt.axvline(q3, linestyle='--', color='gray', label='Q3')\n",
    "plt.axvspan(q1, q3, alpha=0.2, color='gray', label='IQR')\n",
    "\n",
    "plt.xlabel('Values')\n",
    "plt.title('Boxplot of Salary')\n",
    "\n",
    "plt.show()"
   ]
  },
  {
   "cell_type": "code",
   "execution_count": 76,
   "metadata": {},
   "outputs": [
    {
     "name": "stdout",
     "output_type": "stream",
     "text": [
      "Variasi data gaji Data Scientist, Data Engineer, Data Analyst: 4011776939.222424\n"
     ]
    }
   ],
   "source": [
    "# variance\n",
    "variance = df3['Salary in USD'].var()\n",
    "print('Variasi data gaji Data Scientist, Data Engineer, Data Analyst:', variance)"
   ]
  },
  {
   "cell_type": "code",
   "execution_count": 82,
   "metadata": {},
   "outputs": [
    {
     "name": "stdout",
     "output_type": "stream",
     "text": [
      "Standard deviasi data gaji Data Scientist, Data Engineer, Data Analyst: 63338.58965293136\n",
      "\n",
      "Dari hasil varians diketahui bahwa dari sekelompok orang yang berprofesi sebagai \n",
      "Data Scientist, Data Engineer dan Data Analyst, memiliki nilai gaji yang sangat beragam \n",
      "dan berdasarkan simpangan baku diketahui bahwa variasinya sendiri cukup menyebar \n",
      "karena rata-rata gaji adalah $ 133667.13.\n"
     ]
    }
   ],
   "source": [
    "# standard deviation\n",
    "std = df3['Salary in USD'].std()\n",
    "print('Standard deviasi data gaji Data Scientist, Data Engineer, Data Analyst:',std)\n",
    "\n",
    "print(f'\\nDari hasil varians diketahui bahwa dari sekelompok orang yang berprofesi sebagai \\nData Scientist, Data Engineer dan Data Analyst, memiliki nilai gaji yang sangat beragam \\ndan berdasarkan simpangan baku diketahui bahwa variasinya sendiri cukup menyebar \\nkarena rata-rata gaji adalah $ {mean:.2f}.')\n"
   ]
  },
  {
   "cell_type": "code",
   "execution_count": null,
   "metadata": {},
   "outputs": [],
   "source": [
    "# D.1.3 Distribution\n",
    "# discrete distribution"
   ]
  },
  {
   "cell_type": "code",
   "execution_count": null,
   "metadata": {},
   "outputs": [],
   "source": [
    "# continuous distribution"
   ]
  },
  {
   "cell_type": "code",
   "execution_count": null,
   "metadata": {},
   "outputs": [],
   "source": [
    "# Normaly Test - Skewness"
   ]
  },
  {
   "cell_type": "code",
   "execution_count": null,
   "metadata": {},
   "outputs": [],
   "source": [
    "# Normaly Test - Kurtosis"
   ]
  },
  {
   "cell_type": "code",
   "execution_count": null,
   "metadata": {},
   "outputs": [],
   "source": [
    "# D.1.4 Outliers & Extrim Value Analysis"
   ]
  },
  {
   "cell_type": "code",
   "execution_count": null,
   "metadata": {},
   "outputs": [],
   "source": [
    "# D.1.5 Corelation Analysis"
   ]
  },
  {
   "cell_type": "markdown",
   "metadata": {},
   "source": [
    "D.2 Inferential Statistics\n",
    "- Statistika inferensial adalah cabang ilmu statistika yang berhubungan dengan pembuatan kesimpulan atau penarikan kesimpulan tentang suatu populasi berdasarkan sampel data. Ini melibatkan penggunaan data sampel untuk membuat generalisasi atau prediksi tentang populasi yang lebih besar dari mana sampel diambil."
   ]
  }
 ],
 "metadata": {
  "kernelspec": {
   "display_name": "base",
   "language": "python",
   "name": "python3"
  },
  "language_info": {
   "codemirror_mode": {
    "name": "ipython",
    "version": 3
   },
   "file_extension": ".py",
   "mimetype": "text/x-python",
   "name": "python",
   "nbconvert_exporter": "python",
   "pygments_lexer": "ipython3",
   "version": "3.9.19"
  }
 },
 "nbformat": 4,
 "nbformat_minor": 2
}
